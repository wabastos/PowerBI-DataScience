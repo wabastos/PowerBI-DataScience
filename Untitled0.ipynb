{
  "nbformat": 4,
  "nbformat_minor": 0,
  "metadata": {
    "colab": {
      "provenance": [],
      "authorship_tag": "ABX9TyOzl3Gq4rhtNyZ6C//qQWeS",
      "include_colab_link": true
    },
    "kernelspec": {
      "name": "python3",
      "display_name": "Python 3"
    },
    "language_info": {
      "name": "python"
    }
  },
  "cells": [
    {
      "cell_type": "markdown",
      "metadata": {
        "id": "view-in-github",
        "colab_type": "text"
      },
      "source": [
        "<a href=\"https://colab.research.google.com/github/wabastos/PowerBI-DataScience/blob/master/Untitled0.ipynb\" target=\"_parent\"><img src=\"https://colab.research.google.com/assets/colab-badge.svg\" alt=\"Open In Colab\"/></a>"
      ]
    },
    {
      "cell_type": "code",
      "execution_count": 1,
      "metadata": {
        "id": "WccxWH6bm_QK"
      },
      "outputs": [],
      "source": [
        "class Shape:\n",
        "  def __init__ (self):\n",
        "    pass\n",
        "  def get_area (seff):\n",
        "    pass "
      ]
    },
    {
      "cell_type": "code",
      "source": [
        "class Shape:\n",
        "  def __init__ (self,side1, side2):\n",
        "    self.side1 = side1\n",
        "    self.side2 = side2\n",
        "\n",
        "  def get_area(self):\n",
        "    return self.side1*self.side2\n",
        "\n",
        "  def __str__(self):\n",
        "    return f' The area of this {self.__class__.__name__} is:{self.get_area()}'"
      ],
      "metadata": {
        "id": "XD245C3tn2pg"
      },
      "execution_count": 2,
      "outputs": []
    },
    {
      "cell_type": "code",
      "source": [
        "# Folded base class\n",
        " \n",
        "class Rectangle(Shape): # Superclass in Parenthesis\n",
        "\tpass"
      ],
      "metadata": {
        "id": "u_lm4zcTrlxw"
      },
      "execution_count": 3,
      "outputs": []
    },
    {
      "cell_type": "code",
      "source": [
        "\n",
        "class Square(Rectangle):\n",
        "  def __init__(self, side):\n",
        "     super().__init__(side,side)"
      ],
      "metadata": {
        "id": "7te4R34qrsBO"
      },
      "execution_count": 7,
      "outputs": []
    },
    {
      "cell_type": "code",
      "source": [
        "\n",
        "class Triangle(Rectangle):\n",
        "  def __init__(self, base, height):\n",
        "     super().__init__(base, height)\n",
        "\n",
        "  def get_area(self):\n",
        "    area = super().get_area()\n",
        "    return area/2\n"
      ],
      "metadata": {
        "id": "cIwh3KlvtTGA"
      },
      "execution_count": 10,
      "outputs": []
    },
    {
      "cell_type": "code",
      "source": [
        "\n",
        "# At the start of the file\n",
        "from math import pi\n",
        "\n",
        "class Circle(Shape):\n",
        "  def __init__(self, radius):\n",
        "    self.radius = radius\n",
        "\n",
        "  def get_area(self):\n",
        "    return pi*(self.radius**2)"
      ],
      "metadata": {
        "id": "2iyFtwZAvTRH"
      },
      "execution_count": 13,
      "outputs": []
    },
    {
      "cell_type": "code",
      "source": [
        "\n",
        "# Import square root\n",
        "from math import sqrt\n",
        "\n",
        "class Hexagon(Square):\n",
        "  def get_area(self):\n",
        "    return (3*sqrt(3)*self.side1**2)/2"
      ],
      "metadata": {
        "id": "N0TNzzFIwmtX"
      },
      "execution_count": 21,
      "outputs": []
    },
    {
      "cell_type": "code",
      "source": [
        "rec = Rectangle(2,2)\n",
        "print(rec)\n",
        "sqr = Square(4)\n",
        "print(sqr)\n",
        "tri = Triangle(2, 2)\n",
        "print(tri)\n",
        "cir = Circle(4)\n",
        "print(cir)\n",
        "hex = Hexagon(3)\n",
        "print(hex)"
      ],
      "metadata": {
        "colab": {
          "base_uri": "https://localhost:8080/"
        },
        "id": "Y0caNbN6y6Yc",
        "outputId": "8d92367a-2cc1-4392-8827-8ffbdefd0592"
      },
      "execution_count": 22,
      "outputs": [
        {
          "output_type": "stream",
          "name": "stdout",
          "text": [
            " The area of this Rectangle is:4\n",
            " The area of this Square is:16\n",
            " The area of this Triangle is:2.0\n",
            " The area of this Circle is:50.26548245743669\n",
            " The area of this Hexagon is:23.382685902179844\n"
          ]
        }
      ]
    }
  ]
}